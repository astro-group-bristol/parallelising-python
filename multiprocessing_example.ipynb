{
 "cells": [
  {
   "cell_type": "markdown",
   "metadata": {},
   "source": [
    "# From Single Process to Mulitprocessing\n",
    "\n",
    "\n"
   ]
  },
  {
   "cell_type": "code",
   "execution_count": 27,
   "metadata": {},
   "outputs": [],
   "source": [
    "import numba\n",
    "import numpy as np\n",
    "from numba import njit, prange, set_num_threads\n",
    " \n",
    "set_num_threads(10) # setting number of cores. IMPORTANT!!!!\n",
    "\n",
    "# setting number of cores.\n",
    "\n",
    "@numba.njit(parallel=True)\n",
    "def calculate_acceleration_parallel(X, Y, Z, Mass, G, num_bodies, i):\n",
    "    ax = np.float64(0.0)\n",
    "    ay = np.float64(0.0)\n",
    "    az = np.float64(0.0)\n",
    "    for j in prange(num_bodies):\n",
    "        if j != i:\n",
    "            r = ((X[j] - X[i]) ** 2 + (Y[j] - Y[i]) ** 2 + (Z[j] - Z[i]) ** 2) ** 0.5\n",
    "            ax += -G * Mass[j] * (X[i] - X[j]) / (r ** 3)\n",
    "            ay += -G * Mass[j] * (Y[i] - Y[j]) / (r ** 3)\n",
    "            az += -G * Mass[j] * (Z[i] - Z[j]) / (r ** 3)\n",
    "\n",
    "    return np.float64(ax), np.float64(ay), np.float64(az)\n",
    "\n",
    "\n",
    "@numba.jit(nopython=True)\n",
    "def calculate_acceleration_compiled(X, Y, Z, Mass, G, num_bodies, i):\n",
    "    ax = np.float64(0.0)\n",
    "    ay = np.float64(0.0)\n",
    "    az = np.float64(0.0)\n",
    "    for j in range(num_bodies):\n",
    "        if j != i:\n",
    "            r = ((X[j] - X[i]) ** 2 + (Y[j] - Y[i]) ** 2 + (Z[j] - Z[i]) ** 2) ** 0.5\n",
    "            ax += -G * Mass[j] * (X[i] - X[j]) / (r ** 3)\n",
    "            ay += -G * Mass[j] * (Y[i] - Y[j]) / (r ** 3)\n",
    "            az += -G * Mass[j] * (Z[i] - Z[j]) / (r ** 3)\n",
    "\n",
    "    return np.float64(ax), np.float64(ay), np.float64(az)\n",
    "\n",
    "\n",
    "@numba.jit(parallel=True, nopython=True)\n",
    "def calculate_acceleration_parallel_compiled(X, Y, Z, Mass, G, num_bodies, i):\n",
    "    ax = np.float64(0.0)\n",
    "    ay = np.float64(0.0)\n",
    "    az = np.float64(0.0)\n",
    "    for j in prange(num_bodies):\n",
    "        if j != i:\n",
    "            r = ((X[j] - X[i]) ** 2 + (Y[j] - Y[i]) ** 2 + (Z[j] - Z[i]) ** 2) ** 0.5\n",
    "            ax += -G * Mass[j] * (X[i] - X[j]) / (r ** 3)\n",
    "            ay += -G * Mass[j] * (Y[i] - Y[j]) / (r ** 3)\n",
    "            az += -G * Mass[j] * (Z[i] - Z[j]) / (r ** 3)\n",
    "\n",
    "    return np.float64(ax), np.float64(ay), np.float64(az)\n",
    "\n",
    "\n",
    "def calculate_acceleration(X, Y, Z, Mass, G, num_bodies, i):\n",
    "    ax = 0.0\n",
    "    ay = 0.0\n",
    "    az = 0.0\n",
    "    for j in range(num_bodies):\n",
    "        if j != i:\n",
    "            r = ((X[j] - X[i]) ** 2 + (Y[j] - Y[i]) ** 2 + (Z[j] - Z[i]) ** 2) ** 0.5\n",
    "            ax += -G * Mass[j] * (X[i] - X[j]) / (r ** 3)\n",
    "            ay += -G * Mass[j] * (Y[i] - Y[j]) / (r ** 3)\n",
    "            az += -G * Mass[j] * (Z[i] - Z[j]) / (r ** 3)\n",
    "    return ax, ay, az\n",
    "\n",
    "\n",
    "class Simulation:\n",
    "\n",
    "    def __init__(self, X, Y, Z, Mass, Vx, Vy, Vz, dt, total_time, numba=True, parallel=False):\n",
    "        self.X = X\n",
    "        self.Y = Y\n",
    "        self.Z = Z\n",
    "        self.Mass = Mass\n",
    "        self.Vx = Vx\n",
    "        self.Vy = Vy\n",
    "        self.Vz = Vz\n",
    "        self.G = 6.67430E-11\n",
    "        self.dt = dt\n",
    "        self.total_time = total_time\n",
    "        self.time = 0\n",
    "        self.num_bodies = len(X)\n",
    "        self.X_history = []\n",
    "        self.Y_history = []\n",
    "        self.Z_history = []\n",
    "        self.Vx_history = []\n",
    "        self.Vy_history = []\n",
    "        self.Vz_history = []\n",
    "        self.numba = numba\n",
    "        self.dark_matter = False\n",
    "        self.parallel = parallel\n",
    "\n",
    "    def calculate_acceleration(self, i):\n",
    "        if self.numba == True:\n",
    "            ax, ay, az = calculate_acceleration_compiled(self.X, self.Y, self.Z, self.Mass, self.G, self.num_bodies, i)\n",
    "            if self.parallel == True:\n",
    "                ax, ay, az = calculate_acceleration_parallel_compiled(self.X, self.Y, self.Z, self.Mass, self.G, self.num_bodies, i)\n",
    "        elif self.parallel == True:\n",
    "            ax, ay, az = calculate_acceleration_parallel(self.X, self.Y, self.Z, self.Mass, self.G, self.num_bodies, i)\n",
    "        else:\n",
    "            ax, ay, az = calculate_acceleration(self.X, self.Y, self.Z, self.Mass, self.G, self.num_bodies, i)\n",
    "        return ax, ay, az\n",
    "\n",
    "\n",
    "    def integrate(self, i):\n",
    "        \"\"\"\n",
    "        Performs a leapfrog integration step for a single body.\n",
    "        \"\"\"\n",
    "        ax, ay, az = self.calculate_acceleration(i)\n",
    "\n",
    "        self.Vx[i] += ax * self.dt / 2\n",
    "        self.Vy[i] += ay * self.dt / 2\n",
    "        self.Vz[i] += az * self.dt / 2\n",
    "\n",
    "        self.X[i] += self.Vx[i] * self.dt\n",
    "        self.Y[i] += self.Vy[i] * self.dt\n",
    "        self.Z[i] += self.Vz[i] * self.dt\n",
    "\n",
    "        ax, ay, az = self.calculate_acceleration(i)\n",
    "        self.Vx[i] += ax * self.dt / 2\n",
    "        self.Vy[i] += ay * self.dt / 2\n",
    "        self.Vz[i] += az * self.dt / 2\n",
    "\n",
    "        self.time += self.dt\n",
    "\n",
    " \n",
    "\n",
    "    def run_simulation(self):\n",
    "        \"\"\"\n",
    "        Runs the simulation until the total time is reached.\n",
    "        \"\"\"\n",
    "        import numpy as np\n",
    "        from tqdm import tqdm\n",
    "        self.t = []\n",
    "        self.t = np.arange(0, self.total_time, self.dt)\n",
    "        for i in tqdm(range(len(self.t)),total=len(self.t), desc='Running Simulation'):\n",
    "            self.time = self.t[i]\n",
    "            for i in range(self.num_bodies):\n",
    "                self.integrate(i)\n",
    "            # Store the current positions and velocities\n",
    "            X_com, Y_com, Z_com = self.X[0], self.Y[0], self.Z[0]\n",
    "            self.X_history.append(self.X[:].copy()-X_com)\n",
    "            self.Y_history.append(self.Y[:].copy()-Y_com)\n",
    "            self.Z_history.append(self.Z[:].copy()-Z_com)\n",
    "            self.Vx_history.append(self.Vx[:].copy())\n",
    "            self.Vy_history.append(self.Vy[:].copy())\n",
    "            self.Vz_history.append(self.Vz[:].copy())\n",
    "\n",
    "            "
   ]
  },
  {
   "cell_type": "code",
   "execution_count": null,
   "metadata": {},
   "outputs": [],
   "source": []
  },
  {
   "cell_type": "markdown",
   "metadata": {},
   "source": [
    "## Planet"
   ]
  },
  {
   "cell_type": "code",
   "execution_count": 28,
   "metadata": {},
   "outputs": [],
   "source": [
    "from intial_conditions import Planets\n",
    "\n",
    "# Set up the initial conditions\n",
    "\n",
    "# Planets\n",
    "system = Planets()\n",
    "system.add_star(Mass=1.989e30)\n",
    "system.add_planet(5.972e24,1.496e11)\n",
    "system.add_planet(6.39e23,2.279e11)\n",
    "system.add_planet(1.898e27,7.785e11)\n",
    "system.add_planet(5.683e26,1.433e12)\n",
    "system.add_planet(8.681e25,2.877e12)\n",
    "system.add_planet(1.024e26,4.503e12)\n",
    "system.add_planet(1.30900e22,5.906e12)\n",
    "\n",
    "X = system.X\n",
    "Y = system.Y\n",
    "Z = system.Z\n",
    "Mass = system.Mass\n",
    "Vx = system.Vx\n",
    "Vy = system.Vy\n",
    "Vz = system.Vz\n"
   ]
  },
  {
   "cell_type": "code",
   "execution_count": 70,
   "metadata": {},
   "outputs": [
    {
     "name": "stderr",
     "output_type": "stream",
     "text": [
      "Running Simulation: 100%|██████████| 365/365 [00:00<00:00, 2268.85it/s]\n"
     ]
    }
   ],
   "source": [
    "dt = 86400 # 1 day in seconds \n",
    "sim = Simulation(np.array(X), \n",
    "                 np.array(Y), \n",
    "                 np.array(Z), \n",
    "                 np.array(Mass), \n",
    "                 np.array(Vx), \n",
    "                 np.array(Vy), \n",
    "                 np.array(Vz), \n",
    "                 dt=dt, \n",
    "                 total_time=1*365*24*3600, \n",
    "                 numba=False, parallel=False)\n",
    "sim.run_simulation()\n",
    "X_run = sim.X_history"
   ]
  },
  {
   "cell_type": "code",
   "execution_count": 71,
   "metadata": {},
   "outputs": [
    {
     "name": "stderr",
     "output_type": "stream",
     "text": [
      "Running Simulation: 100%|██████████| 365/365 [00:00<00:00, 1466.36it/s]\n"
     ]
    }
   ],
   "source": [
    "dt = 86400 # 1 day in seconds \n",
    "sim = Simulation(np.array(X), \n",
    "                 np.array(Y), \n",
    "                 np.array(Z), \n",
    "                 np.array(Mass), \n",
    "                 np.array(Vx), \n",
    "                 np.array(Vy), \n",
    "                 np.array(Vz), \n",
    "                 dt=dt, \n",
    "                 total_time=1*365*24*3600, \n",
    "                 numba=False, parallel=True)\n",
    "sim.run_simulation()\n",
    "X_run_parallel = sim.X_history"
   ]
  },
  {
   "cell_type": "code",
   "execution_count": 72,
   "metadata": {},
   "outputs": [
    {
     "name": "stderr",
     "output_type": "stream",
     "text": [
      "Running Simulation: 100%|██████████| 365/365 [00:00<00:00, 8983.17it/s]\n"
     ]
    }
   ],
   "source": [
    "dt = 86400 # 1 day in seconds \n",
    "sim = Simulation(np.array(X), \n",
    "                 np.array(Y), \n",
    "                 np.array(Z), \n",
    "                 np.array(Mass), \n",
    "                 np.array(Vx), \n",
    "                 np.array(Vy), \n",
    "                 np.array(Vz), \n",
    "                 dt=dt, \n",
    "                 total_time=1*365*24*3600, \n",
    "                 numba=True, parallel=False)\n",
    "sim.run_simulation()\n",
    "X_run_numba = sim.X_history"
   ]
  },
  {
   "cell_type": "code",
   "execution_count": 75,
   "metadata": {},
   "outputs": [
    {
     "name": "stdout",
     "output_type": "stream",
     "text": [
      "True\n",
      "True\n",
      "True\n"
     ]
    }
   ],
   "source": [
    "tol = 0.1 * 1.495979e+11 # 0.1 AU in meters\n",
    "print(np.allclose(X_run, X_run_parallel, atol=tol))\n",
    "print(np.allclose(X_run, X_run_numba, atol=tol))\n",
    "print(np.allclose(X_run_parallel, X_run_numba, atol=tol))"
   ]
  },
  {
   "cell_type": "code",
   "execution_count": 32,
   "metadata": {},
   "outputs": [
    {
     "name": "stderr",
     "output_type": "stream",
     "text": [
      "Running Simulation: 100%|██████████| 36500/36500 [00:25<00:00, 1438.72it/s]\n"
     ]
    }
   ],
   "source": [
    "dt = 86400 # 1 day in seconds \n",
    "sim = Simulation(np.array(X), \n",
    "                 np.array(Y), \n",
    "                 np.array(Z), \n",
    "                 np.array(Mass), \n",
    "                 np.array(Vx), \n",
    "                 np.array(Vy), \n",
    "                 np.array(Vz), \n",
    "                 dt=dt, \n",
    "                 total_time=100*365*24*3600, \n",
    "                 numba=True, parallel=True)\n",
    "sim.run_simulation()"
   ]
  },
  {
   "cell_type": "markdown",
   "metadata": {},
   "source": [
    "## GALAXIES\n"
   ]
  },
  {
   "cell_type": "code",
   "execution_count": 76,
   "metadata": {},
   "outputs": [
    {
     "name": "stdout",
     "output_type": "stream",
     "text": [
      "[2.00000000e+36 8.43495895e+30 6.97475846e+29 ... 3.54731061e+29\n",
      " 1.45548468e+30 1.90051837e+30]\n"
     ]
    }
   ],
   "source": [
    "# create a galaxy instead.\n",
    "import numpy as np\n",
    "from intial_conditions import Galaxy\n",
    "\n",
    "pc2m = 3.086e16\n",
    "\n",
    "galaxy = Galaxy(\n",
    "    N=10000,\n",
    "    R=100*pc2m,\n",
    "    z=100*pc2m,\n",
    "    sigma_R=100*pc2m,\n",
    "    sigma_z=100*pc2m,\n",
    "    bluge_height=100*pc2m,\n",
    "    bludge_frac=0.2\n",
    ")\n",
    "\n",
    "X, Y, Z = np.array(galaxy.X), np.array(galaxy.Y), np.array(galaxy.Z)\n",
    "Vx, Vy, Vz = np.array(galaxy.Vx), np.array(galaxy.Vy), np.array(galaxy.Vz)\n",
    "Mass = np.array(galaxy.Mass)\n",
    "\n",
    "print(Mass)"
   ]
  },
  {
   "cell_type": "code",
   "execution_count": 77,
   "metadata": {},
   "outputs": [
    {
     "name": "stderr",
     "output_type": "stream",
     "text": [
      "Running Simulation: 100%|██████████| 365/365 [01:15<00:00,  4.81it/s]\n"
     ]
    }
   ],
   "source": [
    "dt = 86400 # 1 day in seconds\n",
    "t_end = 1*365*24*3600\n",
    "\n",
    "sim = Simulation(X, Y, Z, Vx,Vy,Vz, Mass, dt,t_end, numba=False, parallel=True)\n",
    "sim.run_simulation()"
   ]
  },
  {
   "cell_type": "code",
   "execution_count": 79,
   "metadata": {},
   "outputs": [
    {
     "name": "stderr",
     "output_type": "stream",
     "text": [
      "Running Simulation: 100%|██████████| 365/365 [00:25<00:00, 14.48it/s]\n"
     ]
    }
   ],
   "source": [
    "dt = 86400 # 1 day in seconds\n",
    "t_end = 1*365*24*3600\n",
    "\n",
    "sim = Simulation(X, Y, Z, Vx,Vy,Vz, Mass, dt,t_end, numba=True, parallel=False)\n",
    "sim.run_simulation()"
   ]
  },
  {
   "cell_type": "code",
   "execution_count": 80,
   "metadata": {},
   "outputs": [
    {
     "name": "stderr",
     "output_type": "stream",
     "text": [
      "Running Simulation:   9%|▉         | 33/365 [00:09<01:35,  3.47it/s]\n"
     ]
    },
    {
     "ename": "KeyboardInterrupt",
     "evalue": "",
     "output_type": "error",
     "traceback": [
      "\u001b[0;31m---------------------------------------------------------------------------\u001b[0m",
      "\u001b[0;31mKeyboardInterrupt\u001b[0m                         Traceback (most recent call last)",
      "Cell \u001b[0;32mIn[80], line 5\u001b[0m\n\u001b[1;32m      2\u001b[0m t_end \u001b[38;5;241m=\u001b[39m \u001b[38;5;241m1\u001b[39m\u001b[38;5;241m*\u001b[39m\u001b[38;5;241m365\u001b[39m\u001b[38;5;241m*\u001b[39m\u001b[38;5;241m24\u001b[39m\u001b[38;5;241m*\u001b[39m\u001b[38;5;241m3600\u001b[39m\n\u001b[1;32m      4\u001b[0m sim \u001b[38;5;241m=\u001b[39m Simulation(X, Y, Z, Vx,Vy,Vz, Mass, dt,t_end, numba\u001b[38;5;241m=\u001b[39m\u001b[38;5;28;01mTrue\u001b[39;00m, parallel\u001b[38;5;241m=\u001b[39m\u001b[38;5;28;01mTrue\u001b[39;00m)\n\u001b[0;32m----> 5\u001b[0m \u001b[43msim\u001b[49m\u001b[38;5;241;43m.\u001b[39;49m\u001b[43mrun_simulation\u001b[49m\u001b[43m(\u001b[49m\u001b[43m)\u001b[49m\n",
      "Cell \u001b[0;32mIn[27], line 138\u001b[0m, in \u001b[0;36mSimulation.run_simulation\u001b[0;34m(self)\u001b[0m\n\u001b[1;32m    136\u001b[0m \u001b[38;5;28mself\u001b[39m\u001b[38;5;241m.\u001b[39mtime \u001b[38;5;241m=\u001b[39m \u001b[38;5;28mself\u001b[39m\u001b[38;5;241m.\u001b[39mt[i]\n\u001b[1;32m    137\u001b[0m \u001b[38;5;28;01mfor\u001b[39;00m i \u001b[38;5;129;01min\u001b[39;00m \u001b[38;5;28mrange\u001b[39m(\u001b[38;5;28mself\u001b[39m\u001b[38;5;241m.\u001b[39mnum_bodies):\n\u001b[0;32m--> 138\u001b[0m     \u001b[38;5;28mself\u001b[39m\u001b[38;5;241m.\u001b[39mintegrate(i)\n\u001b[1;32m    139\u001b[0m \u001b[38;5;66;03m# Store the current positions and velocities\u001b[39;00m\n\u001b[1;32m    140\u001b[0m X_com, Y_com, Z_com \u001b[38;5;241m=\u001b[39m \u001b[38;5;28mself\u001b[39m\u001b[38;5;241m.\u001b[39mX[\u001b[38;5;241m0\u001b[39m], \u001b[38;5;28mself\u001b[39m\u001b[38;5;241m.\u001b[39mY[\u001b[38;5;241m0\u001b[39m], \u001b[38;5;28mself\u001b[39m\u001b[38;5;241m.\u001b[39mZ[\u001b[38;5;241m0\u001b[39m]\n",
      "\u001b[0;31mKeyboardInterrupt\u001b[0m: "
     ]
    }
   ],
   "source": [
    "dt = 86400 # 1 day in seconds\n",
    "t_end = 1*365*24*3600\n",
    "sim = Simulation(X, Y, Z, Vx,Vy,Vz, Mass, dt,t_end, numba=True, parallel=True)\n",
    "sim.run_simulation()"
   ]
  }
 ],
 "metadata": {
  "kernelspec": {
   "display_name": "parallel_example",
   "language": "python",
   "name": "python3"
  },
  "language_info": {
   "codemirror_mode": {
    "name": "ipython",
    "version": 3
   },
   "file_extension": ".py",
   "mimetype": "text/x-python",
   "name": "python",
   "nbconvert_exporter": "python",
   "pygments_lexer": "ipython3",
   "version": "3.12.0"
  }
 },
 "nbformat": 4,
 "nbformat_minor": 2
}
